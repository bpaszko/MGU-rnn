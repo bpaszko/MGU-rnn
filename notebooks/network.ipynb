{
 "cells": [
  {
   "cell_type": "code",
   "execution_count": 1,
   "metadata": {},
   "outputs": [],
   "source": [
    "%matplotlib inline"
   ]
  },
  {
   "cell_type": "code",
   "execution_count": 88,
   "metadata": {},
   "outputs": [],
   "source": [
    "import numpy as np\n",
    "\n",
    "import torch\n",
    "import torch.nn as nn\n",
    "import torch.nn.functional as F\n",
    "import torch.utils.data as data\n",
    "import torch.optim as optim\n",
    "import matplotlib.pyplot as plt\n",
    "\n",
    "import sys\n",
    "\n",
    "import os\n",
    "import pretty_midi\n",
    "\n",
    "\n",
    "from tqdm import tqdm_notebook as tqdm\n",
    "from collections import deque, Counter\n",
    "from typing import Dict, List, Tuple\n",
    "from torch.utils.tensorboard import SummaryWriter"
   ]
  },
  {
   "cell_type": "code",
   "execution_count": 89,
   "metadata": {},
   "outputs": [],
   "source": [
    "dataset = '/home/bartek/Datasets/chopin/'\n",
    "seq_len = 50\n",
    "fs = 5"
   ]
  },
  {
   "cell_type": "code",
   "execution_count": 90,
   "metadata": {},
   "outputs": [],
   "source": [
    "def midi_path_to_pianoroll(path: str, fs: int=5) -> np.ndarray:\n",
    "    pmid = pretty_midi.PrettyMIDI(path)\n",
    "    piano = pmid.instruments[0]\n",
    "    pianoroll = piano.get_piano_roll(fs=fs)\n",
    "    return pianoroll\n",
    "    \n",
    "def pianoroll_to_time_dict(pianoroll: np.ndarray) -> Dict[int, str]:\n",
    "    times = np.unique(pianoroll.nonzero()[1])  # czasy gdzie występuje przynajmniej jedna nuta \n",
    "    index = pianoroll.nonzero()  # indeksy wszystkich nut\n",
    "    dict_keys_time = {}\n",
    "\n",
    "    for time in times:\n",
    "        index_where = (index[1] == time).nonzero()  # pozycje nut, które występują w danym czasie, w indeksie\n",
    "        notes = index[0][index_where]  # odszukanie nut\n",
    "        dict_keys_time[time] = ','.join(notes.astype(str))\n",
    "        \n",
    "    return dict_keys_time\n",
    "\n",
    "\n",
    "def piano_roll_to_pretty_midi(piano_roll, fs=100, program=0):\n",
    "    '''Convert a Piano Roll array into a PrettyMidi object\n",
    "     with a single instrument.\n",
    "    Parameters\n",
    "    ----------\n",
    "    piano_roll : np.ndarray, shape=(128,frames), dtype=int\n",
    "        Piano roll of one instrument\n",
    "    fs : int\n",
    "        Sampling frequency of the columns, i.e. each column is spaced apart\n",
    "        by ``1./fs`` seconds.\n",
    "    program : int\n",
    "        The program number of the instrument.\n",
    "    Returns\n",
    "    -------\n",
    "    midi_object : pretty_midi.PrettyMIDI\n",
    "        A pretty_midi.PrettyMIDI class instance describing\n",
    "        the piano roll.\n",
    "    '''\n",
    "    notes, frames = piano_roll.shape\n",
    "    pm = pretty_midi.PrettyMIDI()\n",
    "    instrument = pretty_midi.Instrument(program=program)\n",
    "\n",
    "    # pad 1 column of zeros so we can acknowledge inital and ending events\n",
    "    piano_roll = np.pad(piano_roll, [(0, 0), (1, 1)], 'constant')\n",
    "\n",
    "    # use changes in velocities to find note on / note off events\n",
    "    velocity_changes = np.nonzero(np.diff(piano_roll).T)\n",
    "\n",
    "    # keep track on velocities and note on times\n",
    "    prev_velocities = np.zeros(notes, dtype=int)\n",
    "    note_on_time = np.zeros(notes)\n",
    "\n",
    "    for time, note in zip(*velocity_changes):\n",
    "        # use time + 1 because of padding above\n",
    "        velocity = piano_roll[note, time + 1]\n",
    "        time = time / fs\n",
    "        if velocity > 0:\n",
    "            if prev_velocities[note] == 0:\n",
    "                note_on_time[note] = time\n",
    "                prev_velocities[note] = velocity\n",
    "        else:\n",
    "            pm_note = pretty_midi.Note(\n",
    "                velocity=prev_velocities[note],\n",
    "                pitch=note,\n",
    "                start=note_on_time[note],\n",
    "                end=time)\n",
    "            instrument.notes.append(pm_note)\n",
    "            prev_velocities[note] = 0\n",
    "    pm.instruments.append(instrument)\n",
    "    return pm\n"
   ]
  },
  {
   "cell_type": "code",
   "execution_count": 91,
   "metadata": {},
   "outputs": [],
   "source": [
    "class MIDIDataset:\n",
    "    def __init__(self, converter, seq_len=50, song_batch_size=12, nn_batch_size=96):\n",
    "        self.converter = converter\n",
    "        self.seq_len = seq_len\n",
    "        self.song_batch_size = song_batch_size\n",
    "        self.nn_batch_size = nn_batch_size\n",
    "        self._pos = 0\n",
    "        self._song_batch = None\n",
    "        \n",
    "    def get_batch(self):\n",
    "        if self._song_batch is None:\n",
    "            songs_train, songs_target = self.converter.get_batch(self.song_batch_size, self.seq_len)\n",
    "            shuffle_order = np.random.permutation(np.arange(songs_target.shape[0]))\n",
    "            songs_train = songs_train[shuffle_order, :]\n",
    "            songs_target = songs_target[shuffle_order]\n",
    "            self._song_batch = (songs_train, songs_target)\n",
    "            self._pos = 0\n",
    "            \n",
    "        songs_train, songs_target = self._song_batch\n",
    "        end_pos = min(self._pos + self.nn_batch_size, songs_target.shape[0])\n",
    "        train_batch, target_batch = songs_train[self._pos:end_pos, :], songs_target[self._pos:end_pos]\n",
    "        if end_pos == songs_target.shape[0]:\n",
    "            self._song_batch = None\n",
    "        self._pos = end_pos\n",
    "        return train_batch, target_batch\n",
    "\n",
    "    def unique_notes(self):\n",
    "        return self.converter.unique_notes()\n",
    "    \n",
    "    def sample_start(self, n=1):\n",
    "        frequency = self.converter.notes_frequency()\n",
    "        notes = np.zeros(shape=self.seq_len)\n",
    "        for i in range(1,n+1):\n",
    "            notes[-i] = np.argmax(np.random.multinomial(1, frequency))\n",
    "        return notes\n",
    "    \n",
    "    def to_midi(self, sequence):\n",
    "        pianoroll = self.converter.sequence_to_pianoroll(sequence)\n",
    "        generate_to_midi = piano_roll_to_pretty_midi(pianoroll, fs=self.converter.fs)\n",
    "        for note in generate_to_midi.instruments[0].notes:\n",
    "            note.velocity = 100\n",
    "        return generate_to_midi\n",
    "        \n",
    "        \n",
    "class MIDIConverter:\n",
    "    def __init__(self, directory: str, frac: float=0.1, fs: int=30) -> None:\n",
    "        assert 0 < frac <= 1\n",
    "        self.fs = fs\n",
    "        self._paths = self._locate_midi_files(directory, frac)\n",
    "        self._time_dicts, self._notes_mapping, self._notes_frequency = self._convert_to_time_dicts()\n",
    "        self._inverse_notes_mapping = {v: k for k, v in self._notes_mapping.items()}\n",
    "        \n",
    "    def get_batch(self, batch_size, seq_len):\n",
    "        idx = np.random.choice(len(self._paths), size=batch_size)\n",
    "        batch_train, batch_target = [], []\n",
    "        for i in idx:\n",
    "            time_dict = self._time_dicts[i]\n",
    "            train_vals, target_vals = self._time_dict_to_seq(time_dict, seq_len)\n",
    "            batch_train.append(train_vals)\n",
    "            batch_target.append(target_vals)\n",
    "        return np.vstack(batch_train), np.hstack(batch_target)\n",
    "        \n",
    "    def unique_notes(self):\n",
    "        return len(self._notes_mapping)\n",
    "    \n",
    "    def notes_frequency(self):\n",
    "        total = sum(self._notes_frequency.values())\n",
    "        freqs = np.zeros(shape=(len(self._notes_mapping) + 1), dtype=np.float64)\n",
    "        for note, idx in self._notes_frequency.items():\n",
    "            freqs[idx] = self._notes_frequency[note] / total\n",
    "        return freqs\n",
    "    \n",
    "    def sequence_to_pianoroll(self, sequence):\n",
    "        notes = [[int(note) for note in self._inverse_notes_mapping.get(idx, '-1').split(',')] for idx in sequence]\n",
    "        pianoroll = np.zeros(shape=(128, len(notes)))\n",
    "        for i, note_idx in enumerate(notes):\n",
    "            if note_idx != -1:\n",
    "                pianoroll[note_idx, i] = 1\n",
    "        return pianoroll\n",
    "        \n",
    "        \n",
    "    def _time_dict_to_seq(self, time_dict, seq_len) -> np.ndarray:\n",
    "        times = list(time_dict.keys())\n",
    "        start_time, end_time = np.min(times), np.max(times)\n",
    "        n_samples = end_time - start_time\n",
    "        initial_values = [0]*(seq_len-1) + [time_dict[start_time]]\n",
    "        train_values = np.zeros(shape=(n_samples+1, seq_len))\n",
    "        target_values = np.zeros(shape=(n_samples+1))\n",
    "        train_values_per_step = deque(initial_values)\n",
    "        for i in range(n_samples):\n",
    "            train_values[i, :] = list(train_values_per_step)\n",
    "            current_target = time_dict.get(start_time + i, 0)\n",
    "            target_values[i] = current_target\n",
    "            train_values_per_step.popleft()\n",
    "            train_values_per_step.append(current_target)\n",
    "        train_values[n_samples, :] = list(train_values_per_step)\n",
    "        return train_values, target_values\n",
    "        \n",
    "    def _convert_to_time_dicts(self) -> Tuple[Dict[int, Dict[int, str]], Dict[str, int]]:\n",
    "        unique_notes = list()\n",
    "        time_dicts = {}\n",
    "        for i, path in tqdm(enumerate(self._paths), total=len(self._paths)):\n",
    "            pianoroll = midi_path_to_pianoroll(path, fs=self.fs)\n",
    "            time_dict = pianoroll_to_time_dict(pianoroll)\n",
    "            time_dicts[i] = time_dict\n",
    "            unique_notes += list(time_dict.values())\n",
    "\n",
    "        notes_freq = Counter(unique_notes)\n",
    "        unique_notes = set(unique_notes)\n",
    "        # Replace strings with oridinal encoding\n",
    "        notes_mapping = {note:(i+1) for i, note in enumerate(unique_notes)}\n",
    "        for i, time_dict in time_dicts.items():\n",
    "            for time, notes in time_dict.items():\n",
    "                time_dict[time] = notes_mapping[notes]\n",
    "        return time_dicts, notes_mapping, notes_freq\n",
    "            \n",
    "    def _locate_midi_files(self, base_dir: str, frac: float) -> List[str]:\n",
    "        midi_files = []\n",
    "        for root, dirs, files in os.walk(base_dir):\n",
    "            for file in files:\n",
    "                if file.endswith('.midi') or file.endswith('.mid'):\n",
    "                    midi_files.append(os.path.join(root, file))\n",
    "        return np.random.choice(midi_files, size=int(frac*len(midi_files)), replace=False)\n",
    "        "
   ]
  },
  {
   "cell_type": "code",
   "execution_count": 92,
   "metadata": {},
   "outputs": [
    {
     "data": {
      "application/vnd.jupyter.widget-view+json": {
       "model_id": "dce9e08cdee04b65a2a141480ee8544a",
       "version_major": 2,
       "version_minor": 0
      },
      "text/plain": [
       "HBox(children=(IntProgress(value=0, max=48), HTML(value='')))"
      ]
     },
     "metadata": {},
     "output_type": "display_data"
    },
    {
     "name": "stdout",
     "output_type": "stream",
     "text": [
      "\n"
     ]
    }
   ],
   "source": [
    "converter = MIDIConverter(dataset, frac=1, fs=5)\n",
    "provider = MIDIDataset(converter, nn_batch_size=64, song_batch_size=8, seq_len=seq_len)"
   ]
  },
  {
   "cell_type": "code",
   "execution_count": 84,
   "metadata": {},
   "outputs": [],
   "source": [
    "class MusicRNN(nn.Module):\n",
    "    def __init__(self, embedding_dim, hidden_dim, unique_notes, seq_len, rnn='LSTM'):\n",
    "        assert rnn in ['LSTM', 'GRU']\n",
    "        super().__init__()\n",
    "        self.seq_len = seq_len\n",
    "        self.hidden_dim = hidden_dim\n",
    "        self.embeddings = nn.Embedding(unique_notes+1, embedding_dim)\n",
    "        if rnn == 'LSTM':\n",
    "            self.rnn = nn.LSTM(embedding_dim, hidden_dim, num_layers=3, dropout=0.2)\n",
    "        else:\n",
    "            self.rnn = nn.GRU(embedding_dim, hidden_dim, num_layers=3, dropout=0.2)\n",
    "        self.linear = nn.Sequential(\n",
    "            nn.Dropout(0.2),\n",
    "            nn.Linear(hidden_dim * seq_len, 512),\n",
    "            nn.LeakyReLU(),\n",
    "            nn.Linear(512, unique_notes+1)\n",
    "        )\n",
    "\n",
    "    def forward(self, x):\n",
    "        batch_size, _ = x.shape\n",
    "        embeds = self.embeddings(x)\n",
    "        rnn_out, _ = self.rnn(embeds.view(self.seq_len, batch_size, -1))\n",
    "        outputs = self.linear(rnn_out.view(batch_size, -1))\n",
    "        return outputs\n"
   ]
  },
  {
   "cell_type": "code",
   "execution_count": 85,
   "metadata": {},
   "outputs": [],
   "source": [
    "device = 'cuda:0' if torch.cuda.is_available() else 'cpu'\n",
    "# device = 'cpu'"
   ]
  },
  {
   "cell_type": "code",
   "execution_count": 12,
   "metadata": {},
   "outputs": [],
   "source": [
    "model = MusicRNN(embedding_dim=128, hidden_dim=256, unique_notes=provider.unique_notes(), seq_len=seq_len)\n",
    "model = model.to(device)"
   ]
  },
  {
   "cell_type": "code",
   "execution_count": 10,
   "metadata": {},
   "outputs": [],
   "source": [
    "loss = nn.NLLLoss()\n",
    "optimizer = optim.Adam(model.parameters(), lr=0.01) #, momentum=0.9, weight_decay=5e-4)"
   ]
  },
  {
   "cell_type": "code",
   "execution_count": 17,
   "metadata": {},
   "outputs": [],
   "source": [
    "def generate_sample(model, provider, length=50, temperature=1.0, device='cpu'):\n",
    "    notes = deque(provider.sample_start(1))\n",
    "    generated = [notes[-1]]\n",
    "    for i in range(length-1):\n",
    "        data = torch.tensor(data=np.expand_dims(np.array(notes), axis=0), dtype=torch.long).to(device)\n",
    "        output = F.softmax(model(data) / temperature, dim=1).cpu()\n",
    "        new_note = torch.multinomial(output, 1)[:, 0]\n",
    "        new_note = new_note.item()\n",
    "        notes.popleft()\n",
    "        notes.append(new_note)\n",
    "        generated.append(new_note)\n",
    "    return generated"
   ]
  },
  {
   "cell_type": "code",
   "execution_count": 12,
   "metadata": {},
   "outputs": [],
   "source": [
    "def train(model, provider, optimizer, criterion, iterations):\n",
    "    losses = []\n",
    "    for iteration in tqdm(range(iterations)):\n",
    "        data, targets = provider.get_batch()\n",
    "        data, targets = torch.tensor(data=data, dtype=torch.long).to(device), torch.tensor(data=targets, dtype=torch.long).to(device)\n",
    "        model.zero_grad()\n",
    "\n",
    "        target_preds = F.log_softmax(model(data), dim=1)\n",
    "\n",
    "        loss = criterion(target_preds, targets)\n",
    "        loss.backward()\n",
    "        optimizer.step()\n",
    "        losses.append(loss.cpu().item())\n",
    "    \n",
    "        if iteration % 20000 == 0:\n",
    "            with torch.no_grad():\n",
    "                sample = generate_sample(model, provider, device=device, length=100, temperature=1.0)\n",
    "                midi = provider.to_midi(sample)\n",
    "                midi.write(f'../music/sample_{iteration}.midi')\n",
    "    \n",
    "    return losses"
   ]
  },
  {
   "cell_type": "code",
   "execution_count": 13,
   "metadata": {},
   "outputs": [
    {
     "data": {
      "application/vnd.jupyter.widget-view+json": {
       "model_id": "da48fffb240b4c518af90e122be47f69",
       "version_major": 2,
       "version_minor": 0
      },
      "text/plain": [
       "HBox(children=(IntProgress(value=0, max=120000), HTML(value='')))"
      ]
     },
     "metadata": {},
     "output_type": "display_data"
    },
    {
     "name": "stdout",
     "output_type": "stream",
     "text": [
      "\n"
     ]
    }
   ],
   "source": [
    "losses = train(model, provider, optimizer, loss, 120000)"
   ]
  },
  {
   "cell_type": "code",
   "execution_count": 32,
   "metadata": {},
   "outputs": [],
   "source": [
    "sample = generate_sample(model, provider, device=device, length=100, temperature=2.0)"
   ]
  },
  {
   "cell_type": "code",
   "execution_count": 33,
   "metadata": {},
   "outputs": [],
   "source": [
    "midi = provider.to_midi(sample)\n",
    "midi.write('../music/hello.midi')"
   ]
  },
  {
   "cell_type": "code",
   "execution_count": 34,
   "metadata": {},
   "outputs": [
    {
     "name": "stdout",
     "output_type": "stream",
     "text": [
      "[820.0, 104156, 156116, 159299, 85472, 144701, 103904, 65303, 72854, 45924, 75549, 128004, 23129, 154866, 47051, 23543, 24630, 155337, 148887, 122924, 155065, 15535, 147387, 79553, 65360, 64907, 77497, 120657, 124783, 5622, 35141, 156566, 91713, 25357, 129832, 104829, 83893, 130713, 77172, 13019, 6471, 132449, 59187, 145540, 68795, 114420, 8686, 134000, 60128, 156266, 155287, 49343, 113668, 120460, 121296, 46708, 121567, 8524, 34465, 117808, 123281, 117911, 155737, 54864, 1208, 139483, 88236, 149779, 101126, 147115, 4881, 55283, 84992, 88883, 27945, 73860, 152998, 74032, 150225, 109893, 126139, 153946, 32309, 23612, 150259, 118981, 130899, 115139, 30979, 40604, 37521, 30472, 140119, 42789, 61924, 111273, 83192, 52666, 73127, 2399]\n"
     ]
    }
   ],
   "source": [
    "print(sample)"
   ]
  },
  {
   "cell_type": "code",
   "execution_count": 31,
   "metadata": {},
   "outputs": [],
   "source": [
    "# torch.save(model.state_dict(), '../models/lstm_3_layer_120000.pb')"
   ]
  },
  {
   "cell_type": "code",
   "execution_count": 36,
   "metadata": {},
   "outputs": [
    {
     "data": {
      "image/png": "[encoded data removed]",
      "text/plain": [
       "<Figure size 432x288 with 1 Axes>"
      ]
     },
     "metadata": {
      "needs_background": "light"
     },
     "output_type": "display_data"
    }
   ],
   "source": [
    "import matplotlib.pyplot as plt\n",
    "\n",
    "losses_avg = [np.mean(losses[100*i:100*(i+1)]) for i in range(120000//1000)]\n",
    "plt.plot([i for i in range(120000//1000)], losses_avg)\n",
    "plt.show()"
   ]
  },
  {
   "cell_type": "code",
   "execution_count": null,
   "metadata": {},
   "outputs": [],
   "source": []
  },
  {
   "cell_type": "code",
   "execution_count": 86,
   "metadata": {},
   "outputs": [
    {
     "data": {
      "text/plain": [
       "IncompatibleKeys(missing_keys=[], unexpected_keys=[])"
      ]
     },
     "execution_count": 86,
     "metadata": {},
     "output_type": "execute_result"
    }
   ],
   "source": [
    "md_name = 'lstm3_128__chopin'\n",
    "rnn = 'LSTM' if 'lstm' in md_name else 'GRU'\n",
    "embed, seq_len = md_name.split('_')[1:3]\n",
    "model = MusicRNN(embedding_dim=int(embed), hidden_dim=256, unique_notes=provider.unique_notes(), seq_len=int(seq_len), rnn=rnn)\n",
    "model = model.to(device)\n",
    "std = torch.load(os.path.join('../models', md_name, 'model.pb'), map_location=device)\n",
    "model.load_state_dict(std)"
   ]
  },
  {
   "cell_type": "code",
   "execution_count": 87,
   "metadata": {},
   "outputs": [],
   "source": [
    "if not os.path.exists(os.path.join('../music', md_name, 'generated')):\n",
    "    os.mkdir(os.path.join('../music', md_name, 'generated'))\n",
    "    \n",
    "    \n",
    "for j in range(10):\n",
    "    plt.figure(figsize=(24, 6))\n",
    "    sample = generate_sample(model, provider, device=device, length=100, temperature=1)\n",
    "    pr = provider.converter.sequence_to_pianoroll(sample)\n",
    "    for i in range(pr.shape[1]):\n",
    "        notes = np.nonzero(pr[:, i])\n",
    "        for note in notes:\n",
    "            plt.plot([i, i+1], [note, note], color='blue')\n",
    "            \n",
    "    midi = provider.to_midi(sample)\n",
    "    midi.write(os.path.join('../music', md_name, f'generated/sample_{j}.midi'))\n",
    "    plt.savefig(os.path.join('../music', md_name, f'generated/pianoroll_{j}.png'))\n",
    "    plt.close()"
   ]
  },
  {
   "cell_type": "code",
   "execution_count": null,
   "metadata": {},
   "outputs": [],
   "source": []
  },
  {
   "cell_type": "markdown",
   "metadata": {},
   "source": [
    "# Tensorboard"
   ]
  },
  {
   "cell_type": "code",
   "execution_count": 94,
   "metadata": {},
   "outputs": [
    {
     "data": {
      "text/plain": [
       "IncompatibleKeys(missing_keys=[], unexpected_keys=[])"
      ]
     },
     "execution_count": 94,
     "metadata": {},
     "output_type": "execute_result"
    }
   ],
   "source": [
    "md_name = 'gru3_128_50_chopin'\n",
    "rnn = 'LSTM' if 'lstm' in md_name else 'GRU'\n",
    "embed, seq_len = md_name.split('_')[1:3]\n",
    "model = MusicRNN(embedding_dim=int(embed), hidden_dim=256, unique_notes=provider.unique_notes(), seq_len=int(seq_len), rnn=rnn)\n",
    "model = model.to(device)\n",
    "std = torch.load(os.path.join('../models', md_name, 'model.pb'), map_location=device)\n",
    "model.load_state_dict(std)"
   ]
  },
  {
   "cell_type": "code",
   "execution_count": 95,
   "metadata": {},
   "outputs": [],
   "source": [
    "writer = SummaryWriter(log_dir='../tensorboard')\n",
    "mtd = ['break'] + [k[0] for k in sorted(provider.converter._notes_mapping.items(), key=lambda x: x[1])]\n",
    "writer.add_embedding(mat=model.embeddings.weight.data.numpy(), metadata=mtd)\n",
    "writer.close()"
   ]
  },
  {
   "cell_type": "code",
   "execution_count": null,
   "metadata": {},
   "outputs": [],
   "source": []
  }
 ],
 "metadata": {
  "kernelspec": {
   "display_name": "Python 3",
   "language": "python",
   "name": "python3"
  },
  "language_info": {
   "codemirror_mode": {
    "name": "ipython",
    "version": 3
   },
   "file_extension": ".py",
   "mimetype": "text/x-python",
   "name": "python",
   "nbconvert_exporter": "python",
   "pygments_lexer": "ipython3",
   "version": "3.7.3"
  }
 },
 "nbformat": 4,
 "nbformat_minor": 2
}
